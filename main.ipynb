{
 "cells": [
  {
   "cell_type": "code",
   "execution_count": null,
   "metadata": {},
   "outputs": [],
   "source": [
    "# %matplotlib widget\n",
    "import matplotlib.pyplot as plt\n",
    "import pandas as pd\n",
    "import numpy as np\n",
    "\n",
    "from sklearn import preprocessing\n",
    "from sklearn.pipeline import Pipeline, make_pipeline\n",
    "from sklearn.preprocessing import StandardScaler\n",
    "from sklearn.model_selection import train_test_split\n",
    "from sklearn.metrics import accuracy_score, confusion_matrix, ConfusionMatrixDisplay, RocCurveDisplay, precision_recall_curve, PrecisionRecallDisplay, classification_report\n",
    "from sklearn.svm import SVC, SVR\n",
    "from sklearn.ensemble import RandomForestClassifier, AdaBoostClassifier\n",
    "from sklearn.ensemble import AdaBoostClassifier\n",
    "import seaborn as sns\n",
    "\n",
    "from sklearn import metrics\n",
    "from sklearn.model_selection import GridSearchCV\n",
    "from sklearn.model_selection import train_test_split\n",
    "from imblearn.over_sampling import RandomOverSampler\n",
    "from imblearn.under_sampling import RandomUnderSampler\n",
    "from sklearn.metrics import accuracy_score, precision_score, classification_report"
   ]
  },
  {
   "attachments": {},
   "cell_type": "markdown",
   "metadata": {},
   "source": [
    "### Reading the solar-potential dataset\n"
   ]
  },
  {
   "cell_type": "code",
   "execution_count": null,
   "metadata": {},
   "outputs": [],
   "source": [
    "read_full = pd.read_csv(\"solar-potential.csv\")\n",
    "read_full = read_full[read_full.Generation <= 4000]\n",
    "read_full = read_full.drop(\"OBJECTID\", axis=1)\n",
    "\n",
    "print(read_full.head())\n",
    "print(read_full.count())\n"
   ]
  },
  {
   "attachments": {},
   "cell_type": "markdown",
   "metadata": {},
   "source": [
    "### Histogram of  Relevant Attributes"
   ]
  },
  {
   "cell_type": "code",
   "execution_count": null,
   "metadata": {},
   "outputs": [],
   "source": [
    "read_full.hist(column=[\"Insolation\",\"Area\",\"Generation\"],bins=200)\n",
    "# ax = read_full.hist(column=[\"Insolation\"], bins=200)\n",
    "# plt.xlabel(\"Insolation Irradiance kWh/m2/year\")\n",
    "# plt.ylabel(\"Frequency\")\n",
    "# plt.title(\"Insolation Histogram\")\n",
    "plt.show()"
   ]
  },
  {
   "attachments": {},
   "cell_type": "markdown",
   "metadata": {},
   "source": [
    "### Splitting data for different models "
   ]
  },
  {
   "cell_type": "code",
   "execution_count": null,
   "metadata": {},
   "outputs": [],
   "source": [
    "X = read_full[[\"Insolation\", \"Area\"]].copy()\n",
    "y = read_full[\"Suitability\"].copy()\n",
    "# scaleX = StandardScaler().fit(X)\n",
    "# X = scaleX.transform(X)\n",
    "train_x, test_x, train_y, test_y = train_test_split(X,y, test_size=0.2)\n",
    "\n",
    "\n",
    "\n",
    "X_gen = read_full[[\"Insolation\", \"Area\"]].copy()\n",
    "y_gen = read_full[\"Generation\"].copy()\n",
    "# scaleX_gen = StandardScaler().fit(X_gen)\n",
    "# X_gen = scaleX_gen.transform(X_gen)\n",
    "X_gen_train, X_gen_test, y_gen_train, y_gen_test = train_test_split(X_gen,y_gen, test_size=0.2)\n",
    "\n",
    "\n",
    "\n",
    "# X_corr = read_full[\"geo_point_2d\"].str.split(\", \", expand = True)\n",
    "buff = read_full['Insolation']\n",
    "buff = buff.rename(\"Insolation/m2\")\n",
    "print(buff.head())\n",
    "X_corr = pd.concat([read_full[\"Latitude\"],read_full[\"Longitude\"],buff],axis=1)\n",
    "X_corr = X_corr.rename(columns={\"Latitude\":\"Lat\",1:\"Longitude\",'':\"Insolation/m2\"})\n",
    "print(X_corr)\n",
    "y_corr = read_full[\"Generation\"]/read_full[\"Area\"]\n",
    "scaleX_corr = StandardScaler().fit(X_corr)\n",
    "X_corr = scaleX_corr.transform(X_corr)\n",
    "X_corr_train, X_corr_test, y_corr_train, y_corr_test = train_test_split(X_corr,y_corr, test_size=0.2)\n",
    "\n"
   ]
  },
  {
   "attachments": {},
   "cell_type": "markdown",
   "metadata": {},
   "source": [
    "### Box Plot for Relevant Attributes"
   ]
  },
  {
   "cell_type": "code",
   "execution_count": null,
   "metadata": {},
   "outputs": [],
   "source": [
    "fig1 = plt.figure(figsize =(5, 3))\n",
    "fig2 = plt.figure(figsize =(5, 3))\n",
    "fig3 = plt.figure(figsize =(5, 3))\n",
    " \n",
    "# Creating plot\n",
    "ax1 = fig1.add_subplot()\n",
    "ax2 = fig2.add_subplot()\n",
    "ax3 = fig3.add_subplot()\n",
    "\n",
    "bp1 = ax1.boxplot(read_full[\"Area\"], patch_artist = True, notch = 'True', vert = 0, )\n",
    "bp2 = ax2.boxplot(read_full[\"Insolation\"], patch_artist = True, notch = 'True', vert = 0)\n",
    "bp3 = ax3.boxplot(read_full[\"Generation\"], patch_artist = True, notch = 'True', vert = 0)\n",
    "\n",
    "ax1.title.set_text('Area') \n",
    "ax2.title.set_text('Insolation') \n",
    "ax3.title.set_text('Generation') \n",
    "# show plot\n",
    "plt.show()"
   ]
  },
  {
   "attachments": {},
   "cell_type": "markdown",
   "metadata": {},
   "source": [
    "### Scatter Plot for Insolation vs Area"
   ]
  },
  {
   "cell_type": "code",
   "execution_count": null,
   "metadata": {},
   "outputs": [],
   "source": [
    "fig, ax = plt.subplots(figsize = (18,10))\n",
    "\n",
    "ax.scatter(read_full[\"Insolation\"], read_full[\"Area\"])\n",
    "plt.xlabel(\"Insolation\")\n",
    "plt.ylabel(\"Area\")\n",
    "\n",
    "plt.show()"
   ]
  },
  {
   "attachments": {},
   "cell_type": "markdown",
   "metadata": {},
   "source": [
    "### Code for Random Forest Classifier"
   ]
  },
  {
   "cell_type": "code",
   "execution_count": null,
   "metadata": {},
   "outputs": [],
   "source": [
    "rfc = RandomForestClassifier(n_estimators=50, max_features=\"sqrt\", max_samples=0.7)\n",
    "\n",
    "# Fit RFC and predict using the testing set\n",
    "rfc.fit(train_x, train_y)\n",
    "pred2 = rfc.predict(test_x)\n",
    "\n",
    "# Performance Report of rfc\n",
    "print(f\"Accuracy Score of Random Forest Classifier: {accuracy_score(pred2,test_y)*100}%\")\n",
    "cm = confusion_matrix(test_y, pred2, labels = rfc.classes_)\n",
    "disp = ConfusionMatrixDisplay(confusion_matrix=cm, display_labels=rfc.classes_)\n",
    "disp.plot()\n",
    "# fig, (ax1, ax2) = plt.subplots(1, 2, figsize=(12, 8))\n",
    "# rfc_disp = RocCurveDisplay.from_estimator(rfc, test_x, test_y, ax=ax1)\n",
    "# prec, recall, _ = precision_recall_curve(test_y, pred2, pos_label=rfc.classes_[1])\n",
    "# pr_display = PrecisionRecallDisplay(precision=prec, recall=recall)\n",
    "\n",
    "print(classification_report(test_y, pred2, target_names=[\"suitable\", \"well suitable\", \"excellent suitable\"]))"
   ]
  },
  {
   "attachments": {},
   "cell_type": "markdown",
   "metadata": {},
   "source": [
    "### Visualisation of an Individual Tree in RFC"
   ]
  },
  {
   "cell_type": "code",
   "execution_count": null,
   "metadata": {},
   "outputs": [],
   "source": [
    "from sklearn import tree\n",
    "\n",
    "fig, axes = plt.subplots(nrows = 1,ncols = 1,figsize = (6,6), dpi=800)\n",
    "tree.plot_tree(rfc.estimators_[0],\n",
    "               feature_names = [\"Insolation\",\"Area\"], \n",
    "               class_names=[\"suitable\",\"well suitable\", \"excellent suitable\"],\n",
    "               filled = True)\n",
    "# fig.savefig('rf_individualtree.png')"
   ]
  },
  {
   "attachments": {},
   "cell_type": "markdown",
   "metadata": {},
   "source": [
    "### Code for first SVR"
   ]
  },
  {
   "cell_type": "code",
   "execution_count": null,
   "metadata": {},
   "outputs": [],
   "source": [
    "from sklearn.linear_model import LinearRegression\n",
    "from sklearn.pipeline import make_pipeline\n",
    "from sklearn.preprocessing import StandardScaler\n",
    "\n",
    "logmodel = LinearRegression()\n",
    "\n",
    "pipe = make_pipeline(StandardScaler(), logmodel)\n",
    "pipe.fit(X_gen_train,y_gen_train)  # apply the pipeline on training data\n",
    "print(f\"accuracy score:{pipe.score(X_gen_test,y_gen_test)}\")"
   ]
  },
  {
   "attachments": {},
   "cell_type": "markdown",
   "metadata": {},
   "source": [
    "### Code to Display Regression Line"
   ]
  },
  {
   "cell_type": "code",
   "execution_count": null,
   "metadata": {},
   "outputs": [],
   "source": [
    "x_surf, y_surf = np.meshgrid(np.linspace(read_full.Insolation.min(), read_full.Insolation.max(), 10), np.linspace(read_full.Area.min(), read_full.Area.max(), 10))\n",
    "onlyX = pd.DataFrame({'Insolation':x_surf.ravel(), 'Area':y_surf.ravel()})\n",
    "fittedY=pipe.predict(onlyX)\n",
    "fittedY=np.array(fittedY)\n",
    "\n",
    "print(f\"Insolation max:{read_full.Insolation.max()}/min: {read_full.Insolation.min()}\")\n",
    "print(f\"Area max:{read_full.Area.max()}/min: {read_full.Area.min()}\")\n",
    "print(f\"Generation max:{read_full.Generation.max()}/min: {read_full.Generation.min()}\")\n",
    "\n",
    "# readfile[\"Generation\"].plot.line()\n",
    "\n",
    "from mpl_toolkits.mplot3d import Axes3D\n",
    "\n",
    "\n",
    "fig = plt.figure(figsize=(20,10))\n",
    "### Set figure size\n",
    "ax = fig.add_subplot(111, projection='3d')\n",
    "ax.scatter(X_gen_test['Insolation'],X_gen_test['Area'],y_gen_test,c='red', marker='o', alpha=0.5)\n",
    "ax.plot_surface(x_surf,y_surf,fittedY.reshape(x_surf.shape), color='b', alpha=0.3)\n",
    "ax.set_xlabel('Insolation')\n",
    "ax.set_ylabel('Area')\n",
    "ax.set_zlabel('Generation')\n",
    "plt.show()"
   ]
  },
  {
   "attachments": {},
   "cell_type": "markdown",
   "metadata": {},
   "source": [
    "### Code for Second SVR"
   ]
  },
  {
   "cell_type": "code",
   "execution_count": null,
   "metadata": {},
   "outputs": [],
   "source": [
    "logmodel = LinearRegression()\n",
    "\n",
    "pipe2 = make_pipeline(StandardScaler(), logmodel)\n",
    "pipe2.fit(X_corr_train,y_corr_train)  # apply the pipeline on training data\n",
    "print(f\"accuracy score:{pipe2.score(X_corr_test,y_corr_test)}\")"
   ]
  },
  {
   "attachments": {},
   "cell_type": "markdown",
   "metadata": {},
   "source": [
    "### Takes in geographical data as well as insolation and outputs predicted power generation as well as coordinates as csv"
   ]
  },
  {
   "cell_type": "code",
   "execution_count": null,
   "metadata": {},
   "outputs": [],
   "source": [
    "pred_pd = pd.read_csv(\"Uk_Insolation_data.csv\")\n",
    "pred_pd = pred_pd[[\"Lat\",\"Long\",\"Insolation\"]]\n",
    "print(pred_pd.head())\n",
    "pred=pipe2.predict(pred_pd)\n",
    "print(type(pred))\n",
    "output = pd.DataFrame(pred)\n",
    "print(pred)\n",
    "pred_pd = pred_pd.drop('Insolation', axis=1)\n",
    "output = pd.concat([pred_pd,output], axis=1)\n",
    "output.to_csv(\"Uk_generation_output.csv\")"
   ]
  }
 ],
 "metadata": {
  "kernelspec": {
   "display_name": "Python 3",
   "language": "python",
   "name": "python3"
  },
  "language_info": {
   "codemirror_mode": {
    "name": "ipython",
    "version": 3
   },
   "file_extension": ".py",
   "mimetype": "text/x-python",
   "name": "python",
   "nbconvert_exporter": "python",
   "pygments_lexer": "ipython3",
   "version": "3.10.9"
  },
  "orig_nbformat": 4
 },
 "nbformat": 4,
 "nbformat_minor": 2
}
